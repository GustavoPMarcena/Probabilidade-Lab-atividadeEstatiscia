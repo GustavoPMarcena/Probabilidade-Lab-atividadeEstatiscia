{
 "cells": [
  {
   "cell_type": "markdown",
   "id": "86a1f6f0-f506-4bf1-8a89-46714ec48cc2",
   "metadata": {},
   "source": [
    "#  Atividade 02 de Probabilidade\n",
    "\n",
    "## Lista de exercícios\n",
    "\n",
    "## Aluno: Gustavo Pereira Marcena"
   ]
  },
  {
   "cell_type": "code",
   "execution_count": 3,
   "id": "e15b1321-bca5-452c-94a5-bb17f6ac494c",
   "metadata": {},
   "outputs": [],
   "source": [
    "import math \n",
    "import pandas as pd"
   ]
  },
  {
   "cell_type": "markdown",
   "id": "52bd1cf2-6c54-4f6e-9b05-f498f4436448",
   "metadata": {},
   "source": [
    "## Exercício 01"
   ]
  },
  {
   "cell_type": "code",
   "execution_count": 2,
   "id": "e6ce55f2-0a9d-467b-9781-8b5d84311fc4",
   "metadata": {},
   "outputs": [
    {
     "name": "stdout",
     "output_type": "stream",
     "text": [
      "A moda trimodal é  [5, 6, 8]\n",
      "----------------------------------------\n",
      "Este conjunto de dados é amodal\n"
     ]
    }
   ],
   "source": [
    "l_trimodal = [8, 5, 9, 6, 5, 4, 3, 5, 2, 1, 1, 6, 6, 4, 0, 7, 8, 9, 8]\n",
    "l_amodal = [9,5,2,7,12,8,4,0,3]\n",
    "\n",
    "# Código do trimodal \n",
    "\n",
    "freq = [ (numero, l_trimodal.count(numero)) for numero in set(l_trimodal) ]\n",
    "\n",
    "freq.sort(key = lambda par: par[1])\n",
    "biggestNum = 0;\n",
    "for i in freq:\n",
    "    if i[1] > biggestNum:\n",
    "        biggestNum = i[1]\n",
    "\n",
    "moda = []\n",
    "for i in freq:\n",
    "    if i[1] == biggestNum:\n",
    "        moda.append(i[0])\n",
    "\n",
    "print(\"A moda trimodal é \",moda)\n",
    "print(\"-\"*40)\n",
    "# Código da amodal\n",
    "repetidos = 0\n",
    "\n",
    "for i in range(0, len(l_amodal)-1):\n",
    "    for g in range(0, len(l_amodal)-1):\n",
    "        if i != g and l_amodal[i] == l_amodal[g]:\n",
    "            repetidos += 1\n",
    "\n",
    "if repetidos == 0:\n",
    "    print(\"Este conjunto de dados é amodal\")"
   ]
  },
  {
   "cell_type": "markdown",
   "id": "64dc7519-780e-4f17-90a5-3f616788641e",
   "metadata": {},
   "source": [
    "## Exercício 02"
   ]
  },
  {
   "cell_type": "code",
   "execution_count": 3,
   "id": "ba832fb4-43b8-45d8-b12f-034029a7a83a",
   "metadata": {},
   "outputs": [
    {
     "name": "stdout",
     "output_type": "stream",
     "text": [
      "A moda do IMC é  (19.03, 27.76]\n",
      "O ponto medio é  23.395000000000003\n"
     ]
    }
   ],
   "source": [
    "import pandas as pd\n",
    "\n",
    "df = pd.read_csv(\"healthcare-dataset-stroke-data.csv\")\n",
    "classes = pd.cut(df.bmi, bins = 10)\n",
    "freq = classes.value_counts()\n",
    "moda = freq.idxmax()\n",
    "print(\"A moda do IMC é \", moda)\n",
    "\n",
    "inferior = moda.left\n",
    "superior = moda.right\n",
    "\n",
    "ponto_medio = (superior + inferior) /2\n",
    "print(\"O ponto medio é \", ponto_medio)\n"
   ]
  },
  {
   "cell_type": "markdown",
   "id": "5d73a2d5-cc74-4535-9fbe-2f2ac06f2ca6",
   "metadata": {},
   "source": [
    "## Exercício 03"
   ]
  },
  {
   "cell_type": "markdown",
   "id": "3186a1b1-26ff-4b56-88ce-c8c6e336ae89",
   "metadata": {},
   "source": [
    "### Moda de Czuber"
   ]
  },
  {
   "cell_type": "code",
   "execution_count": 29,
   "id": "482a9de6-26b2-4717-b1e2-90e9a35a4aeb",
   "metadata": {},
   "outputs": [
    {
     "name": "stdout",
     "output_type": "stream",
     "text": [
      "A moda de Czuber é  26.96775761124122\n"
     ]
    }
   ],
   "source": [
    "classes = pd.cut(df.bmi, bins = 10)\n",
    "freq = classes.value_counts()\n",
    "\n",
    "# Criando as variáveis\n",
    "\n",
    "# Limite inferior\n",
    "lim_Inferior = moda.left\n",
    "# Amplitude = maior valor da moda - menor\n",
    "amplitude = moda.right - moda.left\n",
    "# Deixando a frequência em ordem\n",
    "freq = freq.sort_index()\n",
    "# Encontrando a moda\n",
    "moda = freq.index[freq == freq.max()].tolist()[0]\n",
    "# Pegando a classe anterior\n",
    "classe_anterior = freq.index[freq.index < moda].tolist()[-1]\n",
    "# Pegando a classe posterior\n",
    "classe_posterior = freq.index[freq.index > moda].tolist()[0]\n",
    "# Pegando o valor das frequências\n",
    "\n",
    "freq_Classe_anterior = freq[classe_anterior]\n",
    "freq_Classe_posterior = freq[classe_posterior]\n",
    "freqModa = freq[moda]\n",
    "\n",
    "delta1 = freqModa - freq_Classe_anterior\n",
    "delta2 = freqModa - freq_Classe_posterior\n",
    "\n",
    "modaCzuber = lim_Inferior + (amplitude * (delta1/(delta1 + delta2)))\n",
    "print(\"A moda de Czuber é \",modaCzuber)\n",
    "\n"
   ]
  },
  {
   "cell_type": "markdown",
   "id": "e96a7c59-a08d-451b-aef9-ac541ac843a1",
   "metadata": {},
   "source": [
    "### Moda de king"
   ]
  },
  {
   "cell_type": "code",
   "execution_count": 5,
   "id": "bc987f02-9e7a-4c9e-a369-eb2a0ea63d12",
   "metadata": {},
   "outputs": [
    {
     "name": "stdout",
     "output_type": "stream",
     "text": [
      "A moda de king é  26.143770270270274\n"
     ]
    }
   ],
   "source": [
    "classes = pd.cut(df.bmi, bins = 10)\n",
    "freq = classes.value_counts()\n",
    "\n",
    "# Criando as variáveis\n",
    "\n",
    "# Limite inferior\n",
    "lim_Inferior = moda.left\n",
    "# Amplitude = maior valor da moda - menor\n",
    "amplitude = moda.right - moda.left\n",
    "# Deixando a frequência em ordem\n",
    "freq = freq.sort_index()\n",
    "# Encontrando a moda\n",
    "moda = freq.index[freq == freq.max()].tolist()[0]\n",
    "# Pegando a classe anterior\n",
    "classe_anterior = freq.index[freq.index < moda].tolist()[-1]\n",
    "# Pegando a classe posterior\n",
    "classe_posterior = freq.index[freq.index > moda].tolist()[0]\n",
    "# Pegando o valor das frequências\n",
    "classe_anterior = freq[classe_anterior]\n",
    "classe_posterior = freq[classe_posterior]\n",
    "\n",
    "modaKing = lim_Inferior + (amplitude * (classe_posterior/(classe_posterior + classe_anterior)))\n",
    "print(\"A moda de king é \",modaKing)\n"
   ]
  },
  {
   "cell_type": "markdown",
   "id": "c9729b78-536c-444c-b6cc-d6f5e31263f2",
   "metadata": {},
   "source": [
    "## Exercício 4"
   ]
  },
  {
   "cell_type": "code",
   "execution_count": 28,
   "id": "4ac64d4b-9782-4478-8387-080f5edf3d75",
   "metadata": {},
   "outputs": [
    {
     "name": "stdout",
     "output_type": "stream",
     "text": [
      "A moda de Pearson é  26.51352617641068\n"
     ]
    }
   ],
   "source": [
    "# Calculando a moda de Pearson, que é 3*mediana - 2*media\n",
    "classes = pd.cut(df.bmi, bins = 10)\n",
    "freq = classes.value_counts()\n",
    "\n",
    "\n",
    "freq = freq.sort_index()\n",
    "\n",
    "# Descobrindo a mediana e media \n",
    "\n",
    "mediana = df[\"bmi\"].median()\n",
    "media = df[\"bmi\"].mean()\n",
    "\n",
    "# Calculando a moda de Pearson\n",
    "\n",
    "modaPearson = (3*mediana) - (2*media)\n",
    "print(\"A moda de Pearson é \", modaPearson)\n"
   ]
  },
  {
   "cell_type": "markdown",
   "id": "036832f6-8f2f-4ecf-9c5d-15de32b08720",
   "metadata": {},
   "source": [
    "## Exercício 5"
   ]
  },
  {
   "cell_type": "code",
   "execution_count": 65,
   "id": "80e9a5af-27ba-43b6-af19-19bf01edf3ae",
   "metadata": {},
   "outputs": [
    {
     "data": {
      "text/plain": [
       "(array([  2.,  11.,  51., 120., 231., 265., 184., 103.,  29.,   4.]),\n",
       " array([-3.473133  , -2.8164441 , -2.1597552 , -1.5030663 , -0.84637741,\n",
       "        -0.18968851,  0.46700039,  1.12368929,  1.78037819,  2.43706709,\n",
       "         3.09375599]),\n",
       " <BarContainer object of 10 artists>)"
      ]
     },
     "execution_count": 65,
     "metadata": {},
     "output_type": "execute_result"
    },
    {
     "data": {
      "image/png": "[encoded data removed]",
      "text/plain": [
       "<Figure size 640x480 with 3 Axes>"
      ]
     },
     "metadata": {},
     "output_type": "display_data"
    }
   ],
   "source": [
    "import pandas as pd\n",
    "import numpy as np\n",
    "import matplotlib.pyplot as plt\n",
    "\n",
    "fig, axs = plt.subplots(3,1)\n",
    "\n",
    "X = pd.Series(np.random.lognormal(0,.3,100))\n",
    "Xp = pd.Series(1-X)\n",
    "Xn = pd.Series(np.random.normal(0,1,1000))\n",
    "\n",
    "axs[0].hist(X, bins = 10, )\n",
    "axs[1].hist(Xp, bins = 10 ,)\n",
    "axs[2].hist(Xn, bins = 10 ,)"
   ]
  },
  {
   "cell_type": "markdown",
   "id": "aa5fcfdf-a67f-4b7a-b2a1-30940660f4f3",
   "metadata": {},
   "source": [
    "## Assimetria de pearson \n"
   ]
  },
  {
   "cell_type": "code",
   "execution_count": 21,
   "id": "664edb51-e3db-47af-9c39-949ef2185427",
   "metadata": {},
   "outputs": [
    {
     "name": "stdout",
     "output_type": "stream",
     "text": [
      "A assimetria de Pearson é  0.3029908985100897\n"
     ]
    }
   ],
   "source": [
    "# media - moda / desvio padrão \n",
    "import numpy as np\n",
    "\n",
    "\n",
    "desvio_padrao = freq.std()\n",
    "assimetriaPearson = 3*(df['bmi'].mean() - df['bmi'].median())/df['bmi'].std()\n",
    "print(\"A assimetria de Pearson é \",assimetriaPearson)\n"
   ]
  },
  {
   "cell_type": "markdown",
   "id": "ce3a27aa-8011-4fd1-b59c-84ef9d6c39ec",
   "metadata": {},
   "source": [
    "## Assimetria de Bowley"
   ]
  },
  {
   "cell_type": "code",
   "execution_count": 18,
   "id": "868a6722-1ad6-43be-877c-343a0d3acb9d",
   "metadata": {},
   "outputs": [
    {
     "name": "stdout",
     "output_type": "stream",
     "text": [
      "A assimetria de Bowley é 0.04166666666666651\n"
     ]
    }
   ],
   "source": [
    "# Calcular os quartis\n",
    "q1 = df['bmi'].quantile(0.25)\n",
    "q2 = df['bmi'].quantile(0.5)\n",
    "q3 = df['bmi'].quantile(0.75)\n",
    "# Calcular a assimetria de Bowley\n",
    "assimetriaBowley = (q3 - (2 * q2) + q1) / (q3 - q1)\n",
    "\n",
    "print(\"A assimetria de Bowley é\", assimetriaBowley)\n"
   ]
  }
 ],
 "metadata": {
  "kernelspec": {
   "display_name": "Python 3 (ipykernel)",
   "language": "python",
   "name": "python3"
  },
  "language_info": {
   "codemirror_mode": {
    "name": "ipython",
    "version": 3
   },
   "file_extension": ".py",
   "mimetype": "text/x-python",
   "name": "python",
   "nbconvert_exporter": "python",
   "pygments_lexer": "ipython3",
   "version": "3.11.4"
  }
 },
 "nbformat": 4,
 "nbformat_minor": 5
}
